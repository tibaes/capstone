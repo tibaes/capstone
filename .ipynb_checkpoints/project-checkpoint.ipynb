{
 "cells": [
  {
   "cell_type": "markdown",
   "metadata": {},
   "source": [
    "# Project Phases\n",
    "\n",
    "1. Split dataset into train and test.\n",
    "2. Convert dataset notes into one-hot-encoded classification labels.\n",
    "3. Convert fingerprint images into 4D Tensors in the form _(nb_samples, 512, 512, 1)_.\n",
    "4. Model and compile the CNN architecture.\n",
    "5. Train the model with multiple epochs, using training and validation sets.\n",
    "6. Load the model with the best validation loss.\n",
    "7. Compute the accuracy of the model."
   ]
  },
  {
   "cell_type": "markdown",
   "metadata": {},
   "source": [
    "## Phase 1: Split dataset into train, validation and test"
   ]
  },
  {
   "cell_type": "code",
   "execution_count": 4,
   "metadata": {},
   "outputs": [],
   "source": [
    "from sklearn.model_selection import train_test_split\n",
    "from keras.utils import np_utils\n",
    "import numpy as np\n",
    "import pandas as pd"
   ]
  },
  {
   "cell_type": "code",
   "execution_count": 32,
   "metadata": {},
   "outputs": [],
   "source": [
    "df = pd.read_csv(\"dataset.csv\")"
   ]
  },
  {
   "cell_type": "code",
   "execution_count": 39,
   "metadata": {},
   "outputs": [],
   "source": [
    "X_train, X_test, y_train, y_test = train_test_split(\n",
    "    df['path'], df['target'], test_size=0.3, random_state=42)"
   ]
  },
  {
   "cell_type": "code",
   "execution_count": 43,
   "metadata": {},
   "outputs": [
    {
     "data": {
      "text/plain": [
       "3215    ./data/figs_7/f1968_08.png\n",
       "3126    ./data/figs_7/f1981_08.png\n",
       "697     ./data/figs_4/f1162_01.png\n",
       "3613    ./data/figs_1/s0273_09.png\n",
       "2374    ./data/figs_0/f0158_04.png\n",
       "1777    ./data/figs_5/s1482_03.png\n",
       "3624    ./data/figs_1/s0259_10.png\n",
       "2804    ./data/figs_6/f1559_06.png\n",
       "1037    ./data/figs_2/f0623_09.png\n",
       "208     ./data/figs_3/s0966_04.png\n",
       "1846    ./data/figs_5/f1346_05.png\n",
       "565     ./data/figs_4/s1250_07.png\n",
       "313     ./data/figs_3/s0788_09.png\n",
       "601     ./data/figs_4/f1249_08.png\n",
       "233     ./data/figs_3/f0760_06.png\n",
       "1260    ./data/figs_2/s0505_01.png\n",
       "931     ./data/figs_4/s1035_01.png\n",
       "3220    ./data/figs_7/s1961_07.png\n",
       "1723    ./data/figs_5/s1261_07.png\n",
       "111     ./data/figs_3/f0919_06.png\n",
       "2704    ./data/figs_6/s1691_09.png\n",
       "1089    ./data/figs_2/f0684_02.png\n",
       "2742    ./data/figs_6/f1602_07.png\n",
       "2028    ./data/figs_0/s0032_03.png\n",
       "3944    ./data/figs_1/s0388_06.png\n",
       "1743    ./data/figs_5/f1464_10.png\n",
       "472     ./data/figs_3/s0856_02.png\n",
       "2096    ./data/figs_0/f0038_02.png\n",
       "3732    ./data/figs_1/s0343_09.png\n",
       "1786    ./data/figs_5/s1420_05.png\n",
       "                   ...            \n",
       "955     ./data/figs_4/s1240_03.png\n",
       "1215    ./data/figs_2/f0728_09.png\n",
       "2433    ./data/figs_0/s0126_10.png\n",
       "2853    ./data/figs_6/s1590_09.png\n",
       "3485    ./data/figs_7/f1792_06.png\n",
       "1515    ./data/figs_5/s1266_08.png\n",
       "2391    ./data/figs_0/s0218_02.png\n",
       "769     ./data/figs_4/f1175_08.png\n",
       "3380    ./data/figs_7/f1802_08.png\n",
       "1685    ./data/figs_5/f1490_08.png\n",
       "130     ./data/figs_3/s0832_09.png\n",
       "3735    ./data/figs_1/f0485_06.png\n",
       "2919    ./data/figs_6/s1586_05.png\n",
       "3171    ./data/figs_7/f1974_09.png\n",
       "3444    ./data/figs_7/f1811_02.png\n",
       "2135    ./data/figs_0/f0247_08.png\n",
       "1482    ./data/figs_2/s0634_09.png\n",
       "330     ./data/figs_3/f0963_03.png\n",
       "1238    ./data/figs_2/f0748_10.png\n",
       "466     ./data/figs_3/s0764_01.png\n",
       "2169    ./data/figs_0/s0230_10.png\n",
       "1638    ./data/figs_5/f1356_02.png\n",
       "3092    ./data/figs_7/s1884_03.png\n",
       "3772    ./data/figs_1/f0495_05.png\n",
       "1095    ./data/figs_2/s0745_03.png\n",
       "1130    ./data/figs_2/f0577_06.png\n",
       "1294    ./data/figs_2/s0561_08.png\n",
       "860     ./data/figs_4/s1031_07.png\n",
       "3507    ./data/figs_1/s0263_05.png\n",
       "3174    ./data/figs_7/s1927_03.png\n",
       "Name: path, Length: 2800, dtype: object"
      ]
     },
     "execution_count": 43,
     "metadata": {},
     "output_type": "execute_result"
    }
   ],
   "source": []
  },
  {
   "cell_type": "code",
   "execution_count": null,
   "metadata": {
    "collapsed": true
   },
   "outputs": [],
   "source": []
  }
 ],
 "metadata": {
  "kernelspec": {
   "display_name": "Python 2",
   "language": "python",
   "name": "python2"
  },
  "language_info": {
   "codemirror_mode": {
    "name": "ipython",
    "version": 2
   },
   "file_extension": ".py",
   "mimetype": "text/x-python",
   "name": "python",
   "nbconvert_exporter": "python",
   "pygments_lexer": "ipython2",
   "version": "2.7.6"
  }
 },
 "nbformat": 4,
 "nbformat_minor": 2
}
