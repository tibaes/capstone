{
 "cells": [
  {
   "cell_type": "markdown",
   "metadata": {},
   "source": [
    "# Project Phases\n",
    "\n",
    "1. Split dataset into train and test.\n",
    "2. Convert dataset notes into one-hot-encoded classification labels.\n",
    "3. Convert fingerprint images into 4D Tensors in the form _(nb_samples, 512, 512, 1)_.\n",
    "4. Model and compile the CNN architecture.\n",
    "5. Train the model with multiple epochs, using training and validation sets.\n",
    "6. Load the model with the best validation loss.\n",
    "7. Compute the accuracy of the model."
   ]
  },
  {
   "cell_type": "markdown",
   "metadata": {},
   "source": [
    "## Phase 1: Split dataset into train and test"
   ]
  },
  {
   "cell_type": "code",
   "execution_count": 2,
   "metadata": {},
   "outputs": [],
   "source": [
    "from sklearn.model_selection import train_test_split\n",
    "from keras.utils import np_utils\n",
    "import numpy as np\n",
    "import pandas as pd"
   ]
  },
  {
   "cell_type": "code",
   "execution_count": 3,
   "metadata": {
    "collapsed": true
   },
   "outputs": [],
   "source": [
    "df = pd.read_csv(\"dataset.csv\")"
   ]
  },
  {
   "cell_type": "code",
   "execution_count": 4,
   "metadata": {
    "collapsed": true
   },
   "outputs": [],
   "source": [
    "X_train, X_test, y_train, y_test = train_test_split(\n",
    "    df['path'], df['target'], test_size=0.3, random_state=42)"
   ]
  },
  {
   "cell_type": "markdown",
   "metadata": {},
   "source": [
    "## Phase 2: Convert dataset notes into one-hot-encoded classification labels"
   ]
  },
  {
   "cell_type": "code",
   "execution_count": 5,
   "metadata": {
    "collapsed": true
   },
   "outputs": [],
   "source": [
    "label = { 'A': 1, 'T': 2, 'R': 3, 'W': 4, 'L': 0 }\n",
    "num_classes = len(label)"
   ]
  },
  {
   "cell_type": "code",
   "execution_count": 6,
   "metadata": {
    "collapsed": true
   },
   "outputs": [],
   "source": [
    "y_train = [ label[c] for c in y_train ]\n",
    "y_test = [ label[c] for c in y_test ]"
   ]
  },
  {
   "cell_type": "code",
   "execution_count": 7,
   "metadata": {
    "collapsed": true
   },
   "outputs": [],
   "source": [
    "y_train = np_utils.to_categorical(y_train, num_classes)\n",
    "y_test = np_utils.to_categorical(y_test, num_classes)"
   ]
  },
  {
   "cell_type": "markdown",
   "metadata": {
    "collapsed": true
   },
   "source": [
    "## Phase 3: Convert fingerprint images into 4D Tensors"
   ]
  },
  {
   "cell_type": "code",
   "execution_count": 8,
   "metadata": {
    "collapsed": true
   },
   "outputs": [],
   "source": [
    "from keras.preprocessing import image"
   ]
  },
  {
   "cell_type": "code",
   "execution_count": 9,
   "metadata": {
    "collapsed": true
   },
   "outputs": [],
   "source": [
    "def tensorfy(img_path):\n",
    "    img = image.load_img(img_path, grayscale=True, target_size=(512, 512))\n",
    "    x = image.img_to_array(img)\n",
    "    return np.expand_dims(x, axis=0)"
   ]
  },
  {
   "cell_type": "code",
   "execution_count": 10,
   "metadata": {
    "collapsed": true
   },
   "outputs": [],
   "source": [
    "def tensorfyList(img_path_list):\n",
    "    list_of_tensors = [tensorfy(img_path) for img_path in img_path_list]\n",
    "    return np.vstack(list_of_tensors)"
   ]
  },
  {
   "cell_type": "code",
   "execution_count": 11,
   "metadata": {
    "collapsed": true
   },
   "outputs": [],
   "source": [
    "X_train = tensorfyList(X_train)\n",
    "X_test = tensorfyList(X_test)"
   ]
  },
  {
   "cell_type": "markdown",
   "metadata": {
    "collapsed": true
   },
   "source": [
    "## Phase 4: Model and compile the CNN architecture."
   ]
  },
  {
   "cell_type": "code",
   "execution_count": 12,
   "metadata": {
    "collapsed": true
   },
   "outputs": [],
   "source": [
    "from keras.layers import Conv2D, MaxPooling2D, GlobalAveragePooling2D\n",
    "from keras.layers import Dropout, Flatten, Dense\n",
    "from keras.models import Sequential"
   ]
  },
  {
   "cell_type": "code",
   "execution_count": 13,
   "metadata": {
    "collapsed": true
   },
   "outputs": [],
   "source": [
    "model = Sequential()\n",
    "\n",
    "model.add(Conv2D(16, kernel_size=(3,3), activation='relu', padding='same', input_shape=(512, 512, 1)))\n",
    "model.add(MaxPooling2D(pool_size=(2,2), strides=(2,2), padding='same'))\n",
    "\n",
    "model.add(Conv2D(32, kernel_size=(3,3), activation='relu', padding='same'))\n",
    "model.add(MaxPooling2D(pool_size=(2,2), strides=(2,2), padding='same'))\n",
    "\n",
    "model.add(Conv2D(64, kernel_size=(3,3), activation='relu', padding='same'))\n",
    "model.add(MaxPooling2D(pool_size=(2,2), strides=(2,2), padding='same'))\n",
    "\n",
    "model.add(GlobalAveragePooling2D())\n",
    "\n",
    "model.add(Dense(100, activation='relu'))\n",
    "model.add(Dropout(0.2))\n",
    "\n",
    "model.add(Dense(5, activation='softmax'))"
   ]
  },
  {
   "cell_type": "code",
   "execution_count": 14,
   "metadata": {},
   "outputs": [
    {
     "name": "stdout",
     "output_type": "stream",
     "text": [
      "_________________________________________________________________\n",
      "Layer (type)                 Output Shape              Param #   \n",
      "=================================================================\n",
      "conv2d_1 (Conv2D)            (None, 512, 512, 16)      160       \n",
      "_________________________________________________________________\n",
      "max_pooling2d_1 (MaxPooling2 (None, 256, 256, 16)      0         \n",
      "_________________________________________________________________\n",
      "conv2d_2 (Conv2D)            (None, 256, 256, 32)      4640      \n",
      "_________________________________________________________________\n",
      "max_pooling2d_2 (MaxPooling2 (None, 128, 128, 32)      0         \n",
      "_________________________________________________________________\n",
      "conv2d_3 (Conv2D)            (None, 128, 128, 64)      18496     \n",
      "_________________________________________________________________\n",
      "max_pooling2d_3 (MaxPooling2 (None, 64, 64, 64)        0         \n",
      "_________________________________________________________________\n",
      "global_average_pooling2d_1 ( (None, 64)                0         \n",
      "_________________________________________________________________\n",
      "dense_1 (Dense)              (None, 100)               6500      \n",
      "_________________________________________________________________\n",
      "dropout_1 (Dropout)          (None, 100)               0         \n",
      "_________________________________________________________________\n",
      "dense_2 (Dense)              (None, 5)                 505       \n",
      "=================================================================\n",
      "Total params: 30,301\n",
      "Trainable params: 30,301\n",
      "Non-trainable params: 0\n",
      "_________________________________________________________________\n"
     ]
    }
   ],
   "source": [
    "model.summary()"
   ]
  },
  {
   "cell_type": "code",
   "execution_count": 15,
   "metadata": {
    "collapsed": true
   },
   "outputs": [],
   "source": [
    "model.compile(optimizer='rmsprop', loss='categorical_crossentropy', metrics=['accuracy'])"
   ]
  },
  {
   "cell_type": "markdown",
   "metadata": {},
   "source": [
    "## Phase 5: Train the model with multiple epochs, using training and validation sets."
   ]
  },
  {
   "cell_type": "code",
   "execution_count": 16,
   "metadata": {
    "collapsed": true
   },
   "outputs": [],
   "source": [
    "from keras.callbacks import ModelCheckpoint\n",
    "from keras.callbacks import EarlyStopping"
   ]
  },
  {
   "cell_type": "code",
   "execution_count": 17,
   "metadata": {
    "collapsed": true
   },
   "outputs": [],
   "source": [
    "checkpointer = ModelCheckpoint(filepath='best_model.hdf5', \n",
    "                               verbose=1, save_best_only=True)"
   ]
  },
  {
   "cell_type": "code",
   "execution_count": 18,
   "metadata": {
    "collapsed": true
   },
   "outputs": [],
   "source": [
    "early_stopping = EarlyStopping(monitor='val_loss', patience=8)"
   ]
  },
  {
   "cell_type": "code",
   "execution_count": 19,
   "metadata": {},
   "outputs": [
    {
     "name": "stdout",
     "output_type": "stream",
     "text": [
      "Train on 2240 samples, validate on 560 samples\n",
      "Epoch 1/50\n",
      "2224/2240 [============================>.] - ETA: 0s - loss: 1.8241 - acc: 0.2059Epoch 00000: val_loss improved from inf to 1.61701, saving model to best_model.hdf5\n",
      "2240/2240 [==============================] - 29s - loss: 1.8222 - acc: 0.2058 - val_loss: 1.6170 - val_acc: 0.2071\n",
      "Epoch 2/50\n",
      "2224/2240 [============================>.] - ETA: 0s - loss: 1.6008 - acc: 0.2329Epoch 00001: val_loss improved from 1.61701 to 1.53744, saving model to best_model.hdf5\n",
      "2240/2240 [==============================] - 20s - loss: 1.6006 - acc: 0.2326 - val_loss: 1.5374 - val_acc: 0.3482\n",
      "Epoch 3/50\n",
      "2224/2240 [============================>.] - ETA: 0s - loss: 1.4946 - acc: 0.3467Epoch 00002: val_loss improved from 1.53744 to 1.38978, saving model to best_model.hdf5\n",
      "2240/2240 [==============================] - 21s - loss: 1.4941 - acc: 0.3469 - val_loss: 1.3898 - val_acc: 0.3804\n",
      "Epoch 4/50\n",
      "2224/2240 [============================>.] - ETA: 0s - loss: 1.3495 - acc: 0.4236Epoch 00003: val_loss improved from 1.38978 to 1.25333, saving model to best_model.hdf5\n",
      "2240/2240 [==============================] - 21s - loss: 1.3516 - acc: 0.4237 - val_loss: 1.2533 - val_acc: 0.4768\n",
      "Epoch 5/50\n",
      "2224/2240 [============================>.] - ETA: 0s - loss: 1.2688 - acc: 0.4613Epoch 00004: val_loss improved from 1.25333 to 1.17375, saving model to best_model.hdf5\n",
      "2240/2240 [==============================] - 21s - loss: 1.2685 - acc: 0.4616 - val_loss: 1.1738 - val_acc: 0.5107\n",
      "Epoch 6/50\n",
      "2224/2240 [============================>.] - ETA: 0s - loss: 1.1959 - acc: 0.5036Epoch 00005: val_loss did not improve\n",
      "2240/2240 [==============================] - 21s - loss: 1.1967 - acc: 0.5036 - val_loss: 1.2039 - val_acc: 0.4661\n",
      "Epoch 7/50\n",
      "2224/2240 [============================>.] - ETA: 0s - loss: 1.1650 - acc: 0.5189Epoch 00006: val_loss improved from 1.17375 to 1.13763, saving model to best_model.hdf5\n",
      "2240/2240 [==============================] - 21s - loss: 1.1637 - acc: 0.5201 - val_loss: 1.1376 - val_acc: 0.5232\n",
      "Epoch 8/50\n",
      "2224/2240 [============================>.] - ETA: 0s - loss: 1.1438 - acc: 0.5373Epoch 00007: val_loss improved from 1.13763 to 1.07201, saving model to best_model.hdf5\n",
      "2240/2240 [==============================] - 21s - loss: 1.1443 - acc: 0.5375 - val_loss: 1.0720 - val_acc: 0.5714\n",
      "Epoch 9/50\n",
      "2224/2240 [============================>.] - ETA: 0s - loss: 1.1203 - acc: 0.5459Epoch 00008: val_loss improved from 1.07201 to 1.06036, saving model to best_model.hdf5\n",
      "2240/2240 [==============================] - 21s - loss: 1.1192 - acc: 0.5460 - val_loss: 1.0604 - val_acc: 0.5696\n",
      "Epoch 10/50\n",
      "2224/2240 [============================>.] - ETA: 0s - loss: 1.1055 - acc: 0.5414Epoch 00009: val_loss did not improve\n",
      "2240/2240 [==============================] - 21s - loss: 1.1073 - acc: 0.5406 - val_loss: 1.0896 - val_acc: 0.5589\n",
      "Epoch 11/50\n",
      "2224/2240 [============================>.] - ETA: 0s - loss: 1.0789 - acc: 0.5571Epoch 00010: val_loss improved from 1.06036 to 0.99694, saving model to best_model.hdf5\n",
      "2240/2240 [==============================] - 21s - loss: 1.0758 - acc: 0.5589 - val_loss: 0.9969 - val_acc: 0.6054\n",
      "Epoch 12/50\n",
      "2224/2240 [============================>.] - ETA: 0s - loss: 1.0661 - acc: 0.5719Epoch 00011: val_loss improved from 0.99694 to 0.98966, saving model to best_model.hdf5\n",
      "2240/2240 [==============================] - 21s - loss: 1.0673 - acc: 0.5710 - val_loss: 0.9897 - val_acc: 0.5982\n",
      "Epoch 13/50\n",
      "2224/2240 [============================>.] - ETA: 0s - loss: 1.0444 - acc: 0.5692Epoch 00012: val_loss did not improve\n",
      "2240/2240 [==============================] - 21s - loss: 1.0430 - acc: 0.5696 - val_loss: 1.1151 - val_acc: 0.5304\n",
      "Epoch 14/50\n",
      "2224/2240 [============================>.] - ETA: 0s - loss: 1.0321 - acc: 0.5751Epoch 00013: val_loss did not improve\n",
      "2240/2240 [==============================] - 21s - loss: 1.0329 - acc: 0.5741 - val_loss: 1.0403 - val_acc: 0.5732\n",
      "Epoch 15/50\n",
      "2224/2240 [============================>.] - ETA: 0s - loss: 1.0301 - acc: 0.5908Epoch 00014: val_loss improved from 0.98966 to 0.94494, saving model to best_model.hdf5\n",
      "2240/2240 [==============================] - 21s - loss: 1.0282 - acc: 0.5915 - val_loss: 0.9449 - val_acc: 0.6214\n",
      "Epoch 16/50\n",
      "2224/2240 [============================>.] - ETA: 0s - loss: 1.0042 - acc: 0.5827Epoch 00015: val_loss did not improve\n",
      "2240/2240 [==============================] - 21s - loss: 1.0017 - acc: 0.5844 - val_loss: 1.0457 - val_acc: 0.5839\n",
      "Epoch 17/50\n",
      "2224/2240 [============================>.] - ETA: 0s - loss: 1.0072 - acc: 0.5931Epoch 00016: val_loss did not improve\n",
      "2240/2240 [==============================] - 21s - loss: 1.0076 - acc: 0.5924 - val_loss: 1.1396 - val_acc: 0.5054\n",
      "Epoch 18/50\n",
      "2224/2240 [============================>.] - ETA: 0s - loss: 0.9867 - acc: 0.5940Epoch 00017: val_loss did not improve\n",
      "2240/2240 [==============================] - 21s - loss: 0.9855 - acc: 0.5951 - val_loss: 0.9617 - val_acc: 0.6232\n",
      "Epoch 19/50\n",
      "2224/2240 [============================>.] - ETA: 0s - loss: 0.9677 - acc: 0.6057Epoch 00018: val_loss did not improve\n",
      "2240/2240 [==============================] - 21s - loss: 0.9673 - acc: 0.6067 - val_loss: 0.9889 - val_acc: 0.6107\n",
      "Epoch 20/50\n",
      "2224/2240 [============================>.] - ETA: 0s - loss: 0.9562 - acc: 0.6133Epoch 00019: val_loss did not improve\n",
      "2240/2240 [==============================] - 21s - loss: 0.9554 - acc: 0.6147 - val_loss: 1.0410 - val_acc: 0.5625\n",
      "Epoch 21/50\n",
      "2224/2240 [============================>.] - ETA: 0s - loss: 0.9680 - acc: 0.6156Epoch 00020: val_loss did not improve\n",
      "2240/2240 [==============================] - 21s - loss: 0.9681 - acc: 0.6152 - val_loss: 1.0208 - val_acc: 0.5732\n",
      "Epoch 22/50\n",
      "2224/2240 [============================>.] - ETA: 0s - loss: 0.9521 - acc: 0.6192Epoch 00021: val_loss improved from 0.94494 to 0.91017, saving model to best_model.hdf5\n",
      "2240/2240 [==============================] - 21s - loss: 0.9535 - acc: 0.6183 - val_loss: 0.9102 - val_acc: 0.6214\n",
      "Epoch 23/50\n",
      "2224/2240 [============================>.] - ETA: 0s - loss: 0.9501 - acc: 0.6030Epoch 00022: val_loss did not improve\n",
      "2240/2240 [==============================] - 21s - loss: 0.9535 - acc: 0.6018 - val_loss: 0.9315 - val_acc: 0.6446\n",
      "Epoch 24/50\n",
      "2224/2240 [============================>.] - ETA: 0s - loss: 0.9255 - acc: 0.6241Epoch 00023: val_loss did not improve\n",
      "2240/2240 [==============================] - 21s - loss: 0.9278 - acc: 0.6228 - val_loss: 0.9384 - val_acc: 0.5875\n",
      "Epoch 25/50\n",
      "2224/2240 [============================>.] - ETA: 0s - loss: 0.9174 - acc: 0.6389Epoch 00024: val_loss did not improve\n",
      "2240/2240 [==============================] - 21s - loss: 0.9159 - acc: 0.6402 - val_loss: 0.9399 - val_acc: 0.6268\n",
      "Epoch 26/50\n",
      "2224/2240 [============================>.] - ETA: 0s - loss: 0.9199 - acc: 0.6228Epoch 00025: val_loss did not improve\n",
      "2240/2240 [==============================] - 21s - loss: 0.9190 - acc: 0.6223 - val_loss: 0.9334 - val_acc: 0.6339\n",
      "Epoch 27/50\n",
      "2224/2240 [============================>.] - ETA: 0s - loss: 0.9053 - acc: 0.6308Epoch 00026: val_loss improved from 0.91017 to 0.88096, saving model to best_model.hdf5\n",
      "2240/2240 [==============================] - 22s - loss: 0.9061 - acc: 0.6308 - val_loss: 0.8810 - val_acc: 0.6482\n",
      "Epoch 28/50\n",
      "2224/2240 [============================>.] - ETA: 0s - loss: 0.9091 - acc: 0.6308Epoch 00027: val_loss did not improve\n",
      "2240/2240 [==============================] - 22s - loss: 0.9067 - acc: 0.6330 - val_loss: 0.8846 - val_acc: 0.6536\n",
      "Epoch 29/50\n",
      "2224/2240 [============================>.] - ETA: 0s - loss: 0.8912 - acc: 0.6398Epoch 00028: val_loss improved from 0.88096 to 0.85039, saving model to best_model.hdf5\n",
      "2240/2240 [==============================] - 22s - loss: 0.8899 - acc: 0.6411 - val_loss: 0.8504 - val_acc: 0.6839\n",
      "Epoch 30/50\n",
      "2224/2240 [============================>.] - ETA: 0s - loss: 0.8916 - acc: 0.6412Epoch 00029: val_loss did not improve\n",
      "2240/2240 [==============================] - 22s - loss: 0.8915 - acc: 0.6415 - val_loss: 0.8914 - val_acc: 0.6250\n",
      "Epoch 31/50\n"
     ]
    },
    {
     "name": "stdout",
     "output_type": "stream",
     "text": [
      "2224/2240 [============================>.] - ETA: 0s - loss: 0.8734 - acc: 0.6484Epoch 00030: val_loss did not improve\n",
      "2240/2240 [==============================] - 21s - loss: 0.8732 - acc: 0.6487 - val_loss: 0.8599 - val_acc: 0.6589\n",
      "Epoch 32/50\n",
      "2224/2240 [============================>.] - ETA: 0s - loss: 0.8712 - acc: 0.6488Epoch 00031: val_loss did not improve\n",
      "2240/2240 [==============================] - 21s - loss: 0.8714 - acc: 0.6482 - val_loss: 0.8714 - val_acc: 0.6482\n",
      "Epoch 33/50\n",
      "2224/2240 [============================>.] - ETA: 0s - loss: 0.8599 - acc: 0.6538Epoch 00032: val_loss did not improve\n",
      "2240/2240 [==============================] - 21s - loss: 0.8591 - acc: 0.6536 - val_loss: 1.0323 - val_acc: 0.5875\n",
      "Epoch 34/50\n",
      "2224/2240 [============================>.] - ETA: 0s - loss: 0.8603 - acc: 0.6520Epoch 00033: val_loss did not improve\n",
      "2240/2240 [==============================] - 21s - loss: 0.8593 - acc: 0.6527 - val_loss: 0.9697 - val_acc: 0.5875\n",
      "Epoch 35/50\n",
      "2224/2240 [============================>.] - ETA: 0s - loss: 0.8423 - acc: 0.6614Epoch 00034: val_loss did not improve\n",
      "2240/2240 [==============================] - 21s - loss: 0.8416 - acc: 0.6616 - val_loss: 0.8631 - val_acc: 0.6589\n",
      "Epoch 36/50\n",
      "2224/2240 [============================>.] - ETA: 0s - loss: 0.8399 - acc: 0.6578Epoch 00035: val_loss did not improve\n",
      "2240/2240 [==============================] - 21s - loss: 0.8390 - acc: 0.6585 - val_loss: 0.9446 - val_acc: 0.6179\n",
      "Epoch 37/50\n",
      "2224/2240 [============================>.] - ETA: 0s - loss: 0.8497 - acc: 0.6623Epoch 00036: val_loss did not improve\n",
      "2240/2240 [==============================] - 21s - loss: 0.8497 - acc: 0.6629 - val_loss: 0.8638 - val_acc: 0.6482\n",
      "Epoch 38/50\n",
      "2224/2240 [============================>.] - ETA: 0s - loss: 0.8552 - acc: 0.6484Epoch 00037: val_loss improved from 0.85039 to 0.82072, saving model to best_model.hdf5\n",
      "2240/2240 [==============================] - 21s - loss: 0.8535 - acc: 0.6487 - val_loss: 0.8207 - val_acc: 0.6482\n",
      "Epoch 39/50\n",
      "2224/2240 [============================>.] - ETA: 0s - loss: 0.8295 - acc: 0.6677Epoch 00038: val_loss improved from 0.82072 to 0.81991, saving model to best_model.hdf5\n",
      "2240/2240 [==============================] - 21s - loss: 0.8271 - acc: 0.6683 - val_loss: 0.8199 - val_acc: 0.6839\n",
      "Epoch 40/50\n",
      "2224/2240 [============================>.] - ETA: 0s - loss: 0.8216 - acc: 0.6619Epoch 00039: val_loss did not improve\n",
      "2240/2240 [==============================] - 21s - loss: 0.8192 - acc: 0.6629 - val_loss: 0.8339 - val_acc: 0.6875\n",
      "Epoch 41/50\n",
      "2224/2240 [============================>.] - ETA: 0s - loss: 0.8276 - acc: 0.6691Epoch 00040: val_loss did not improve\n",
      "2240/2240 [==============================] - 21s - loss: 0.8265 - acc: 0.6705 - val_loss: 0.9232 - val_acc: 0.6518\n",
      "Epoch 42/50\n",
      "2224/2240 [============================>.] - ETA: 0s - loss: 0.8187 - acc: 0.6587Epoch 00041: val_loss did not improve\n",
      "2240/2240 [==============================] - 21s - loss: 0.8179 - acc: 0.6585 - val_loss: 0.8392 - val_acc: 0.6696\n",
      "Epoch 43/50\n",
      "2224/2240 [============================>.] - ETA: 0s - loss: 0.8127 - acc: 0.6691Epoch 00042: val_loss did not improve\n",
      "2240/2240 [==============================] - 21s - loss: 0.8135 - acc: 0.6692 - val_loss: 0.9143 - val_acc: 0.6464\n",
      "Epoch 44/50\n",
      "2224/2240 [============================>.] - ETA: 0s - loss: 0.7939 - acc: 0.6767Epoch 00043: val_loss did not improve\n",
      "2240/2240 [==============================] - 21s - loss: 0.7940 - acc: 0.6777 - val_loss: 0.8405 - val_acc: 0.6679\n",
      "Epoch 45/50\n",
      "2224/2240 [============================>.] - ETA: 0s - loss: 0.8201 - acc: 0.6731Epoch 00044: val_loss did not improve\n",
      "2240/2240 [==============================] - 21s - loss: 0.8192 - acc: 0.6737 - val_loss: 0.8310 - val_acc: 0.6589\n",
      "Epoch 46/50\n",
      "2224/2240 [============================>.] - ETA: 0s - loss: 0.7929 - acc: 0.6794Epoch 00045: val_loss did not improve\n",
      "2240/2240 [==============================] - 21s - loss: 0.7919 - acc: 0.6795 - val_loss: 0.9030 - val_acc: 0.6286\n",
      "Epoch 47/50\n",
      "2224/2240 [============================>.] - ETA: 0s - loss: 0.7898 - acc: 0.6830Epoch 00046: val_loss improved from 0.81991 to 0.80596, saving model to best_model.hdf5\n",
      "2240/2240 [==============================] - 21s - loss: 0.7878 - acc: 0.6844 - val_loss: 0.8060 - val_acc: 0.6893\n",
      "Epoch 48/50\n",
      "2224/2240 [============================>.] - ETA: 0s - loss: 0.7841 - acc: 0.6826Epoch 00047: val_loss did not improve\n",
      "2240/2240 [==============================] - 21s - loss: 0.7823 - acc: 0.6835 - val_loss: 0.8383 - val_acc: 0.6732\n",
      "Epoch 49/50\n",
      "2224/2240 [============================>.] - ETA: 0s - loss: 0.7777 - acc: 0.6871Epoch 00048: val_loss did not improve\n",
      "2240/2240 [==============================] - 21s - loss: 0.7779 - acc: 0.6866 - val_loss: 0.9128 - val_acc: 0.6000\n",
      "Epoch 50/50\n",
      "2224/2240 [============================>.] - ETA: 0s - loss: 0.7674 - acc: 0.6947Epoch 00049: val_loss did not improve\n",
      "2240/2240 [==============================] - 21s - loss: 0.7706 - acc: 0.6937 - val_loss: 0.9949 - val_acc: 0.5982\n"
     ]
    },
    {
     "data": {
      "text/plain": [
       "<keras.callbacks.History at 0x7f2be2f8fe90>"
      ]
     },
     "execution_count": 19,
     "metadata": {},
     "output_type": "execute_result"
    }
   ],
   "source": [
    "model.fit(X_train, y_train,\n",
    "          validation_split=0.2, epochs=50, verbose=1, batch_size=16,\n",
    "          callbacks=[checkpointer, early_stopping])"
   ]
  },
  {
   "cell_type": "markdown",
   "metadata": {},
   "source": [
    "## Phase 6: Load the model with the best validation loss."
   ]
  },
  {
   "cell_type": "code",
   "execution_count": 20,
   "metadata": {
    "collapsed": true
   },
   "outputs": [],
   "source": [
    "model.load_weights('best_model.hdf5')"
   ]
  },
  {
   "cell_type": "markdown",
   "metadata": {},
   "source": [
    "## Phase 7: Compute the accuracy of the model."
   ]
  },
  {
   "cell_type": "code",
   "execution_count": 21,
   "metadata": {
    "collapsed": true
   },
   "outputs": [],
   "source": [
    "predictions = [np.argmax(model.predict(np.expand_dims(tensor, axis=0))) for tensor in X_test]"
   ]
  },
  {
   "cell_type": "code",
   "execution_count": 22,
   "metadata": {},
   "outputs": [
    {
     "name": "stdout",
     "output_type": "stream",
     "text": [
      "Test accuracy: 61.0000%\n"
     ]
    }
   ],
   "source": [
    "test_accuracy = 100 * np.sum(np.array(predictions) == np.argmax(y_test, axis=1)) / len(predictions)\n",
    "print('Test accuracy: %.4f%%' % test_accuracy)"
   ]
  },
  {
   "cell_type": "code",
   "execution_count": null,
   "metadata": {
    "collapsed": true
   },
   "outputs": [],
   "source": []
  }
 ],
 "metadata": {
  "kernelspec": {
   "display_name": "Python 2",
   "language": "python",
   "name": "python2"
  },
  "language_info": {
   "codemirror_mode": {
    "name": "ipython",
    "version": 2
   },
   "file_extension": ".py",
   "mimetype": "text/x-python",
   "name": "python",
   "nbconvert_exporter": "python",
   "pygments_lexer": "ipython2",
   "version": "2.7.6"
  }
 },
 "nbformat": 4,
 "nbformat_minor": 2
}
